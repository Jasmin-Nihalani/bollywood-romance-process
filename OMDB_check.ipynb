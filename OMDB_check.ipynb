{
 "cells": [
  {
   "cell_type": "code",
   "execution_count": 17,
   "id": "714d4545-51c3-40ca-8f81-1778ede2752a",
   "metadata": {},
   "outputs": [
    {
     "name": "stdout",
     "output_type": "stream",
     "text": [
      "Poster URL: https://m.media-amazon.com/images/M/MV5BNDgzMjliNDAtMGJkNy00ZTUzLWIyMTAtNWZkNmY2MDNiZjE3XkEyXkFqcGc@._V1_SX300.jpg\n",
      "Poster saved.\n"
     ]
    }
   ],
   "source": [
    "import requests\n",
    "\n",
    "imdb_id = \"tt0499375\"  # Taare Zameen Par\n",
    "api_key = \"{Your API key here}\"\n",
    "\n",
    "url = f\"http://www.omdbapi.com/?i={imdb_id}&apikey={api_key}\"\n",
    "response = requests.get(url)\n",
    "data = response.json()\n",
    "\n",
    "poster_url = data.get(\"Poster\")\n",
    "print(\"Poster URL:\", poster_url)\n",
    "\n",
    "# Optional: Download the image\n",
    "if poster_url and poster_url != \"N/A\":\n",
    "    img = requests.get(poster_url).content\n",
    "    with open(f\"{imdb_id}.jpg\", \"wb\") as f:\n",
    "        f.write(img)\n",
    "        print(\"Poster saved.\")\n",
    "else:\n",
    "    print(\"No poster available.\")\n"
   ]
  },
  {
   "cell_type": "code",
   "execution_count": 16,
   "id": "7c9e2137-dc77-44b8-a38d-849f09df5e3c",
   "metadata": {},
   "outputs": [
    {
     "name": "stdout",
     "output_type": "stream",
     "text": [
      "{'Title': 'Avengers: Endgame', 'Year': '2019', 'Rated': 'PG-13', 'Released': '26 Apr 2019', 'Runtime': '181 min', 'Genre': 'Action, Adventure, Sci-Fi', 'Director': 'Anthony Russo, Joe Russo', 'Writer': 'Christopher Markus, Stephen McFeely, Stan Lee', 'Actors': 'Robert Downey Jr., Chris Evans, Mark Ruffalo', 'Plot': \"After the devastating events of Avengers: Infinity War (2018), the universe is in ruins. With the help of remaining allies, the Avengers assemble once more in order to reverse Thanos' actions and restore balance to the universe.\", 'Language': 'English, Japanese, Xhosa, German', 'Country': 'United States', 'Awards': 'Nominated for 1 Oscar. 70 wins & 132 nominations total', 'Poster': 'https://m.media-amazon.com/images/M/MV5BMTc5MDE2ODcwNV5BMl5BanBnXkFtZTgwMzI2NzQ2NzM@._V1_SX300.jpg', 'Ratings': [{'Source': 'Internet Movie Database', 'Value': '8.4/10'}, {'Source': 'Rotten Tomatoes', 'Value': '94%'}, {'Source': 'Metacritic', 'Value': '78/100'}], 'Metascore': '78', 'imdbRating': '8.4', 'imdbVotes': '1,373,635', 'imdbID': 'tt4154796', 'Type': 'movie', 'DVD': 'N/A', 'BoxOffice': '$858,373,000', 'Production': 'N/A', 'Website': 'N/A', 'Response': 'True'}\n"
     ]
    }
   ],
   "source": [
    "print(data)\n"
   ]
  },
  {
   "cell_type": "code",
   "execution_count": null,
   "id": "77054bd8-03f4-49ce-8265-b68f1a341a64",
   "metadata": {},
   "outputs": [],
   "source": []
  }
 ],
 "metadata": {
  "kernelspec": {
   "display_name": "Python 3 (ipykernel)",
   "language": "python",
   "name": "python3"
  },
  "language_info": {
   "codemirror_mode": {
    "name": "ipython",
    "version": 3
   },
   "file_extension": ".py",
   "mimetype": "text/x-python",
   "name": "python",
   "nbconvert_exporter": "python",
   "pygments_lexer": "ipython3",
   "version": "3.12.0"
  }
 },
 "nbformat": 4,
 "nbformat_minor": 5
}
