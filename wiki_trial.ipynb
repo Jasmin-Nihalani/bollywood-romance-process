{
 "cells": [
  {
   "cell_type": "code",
   "execution_count": 32,
   "id": "08db4476-df3e-4b7e-ae1e-74ba9ca40221",
   "metadata": {},
   "outputs": [],
   "source": [
    "from bs4 import BeautifulSoup\n",
    "import requests\n",
    "import re\n",
    "\n",
    "response = requests.get(\"https://en.wikipedia.org/wiki/Kuch_Kuch_Hota_Hai\")\n",
    "doc = BeautifulSoup(response.text)"
   ]
  },
  {
   "cell_type": "code",
   "execution_count": 33,
   "id": "6bdfacb1-3eaa-451e-b988-604ca51c2c0b",
   "metadata": {},
   "outputs": [],
   "source": [
    "items = [doc.find('table')]\n",
    "rows = []\n",
    "\n",
    "for item in items:\n",
    "    row = {}\n",
    "\n",
    "    row['Title_wiki'] = item.select_one('.infobox-above').text.strip()\n",
    "    row['Director'] = item.find('th', string=\"Directed by\").find_next_sibling('td').get_text(strip=True)\n",
    "    row['Cast'] = item.find('th', string=\"Starring\").find_next_sibling('td').get_text(separator=\", \", strip=True)\n",
    "    row['Budget'] = item.find('th', string=\"Budget\").find_next_sibling('td').get_text(separator=\" \", strip=True).split('[')[0]\n",
    "    row['Box_Office'] = item.find('th', string=\"Box office\").find_next_sibling('td').get_text(separator=\" \", strip=True).split('[')[0]\n",
    "    row['Music'] = item.find('th', string=\"Music by\").find_next_sibling('td').get_text(strip=True)\n",
    "    row['Distributor'] = item.find('th', string=\"Distributed by\").find_next_sibling('td').get_text(strip=True)\n",
    "    row['Release'] = item.find('th', string=\"Release date\").find_next_sibling('td').get_text(strip=True)\n",
    "\n",
    "    for th in item.find_all('th'):\n",
    "        if 'Production' in th.get_text() and 'company' in th.get_text():\n",
    "            row['Production'] = th.find_next_sibling('td').get_text(strip=True)\n",
    "            break\n",
    "\n",
    "    # Genre extraction: fix indentation here\n",
    "    genre = None\n",
    "    for p in doc.find_all('p'):\n",
    "        text = p.get_text().lower()\n",
    "        match = re.search(r'hindi(?:-| )language ([\\w\\s-]+?) film', text)\n",
    "        if match:\n",
    "            genre = match.group(1).strip().title()\n",
    "            break\n",
    "    row['Genre'] = genre\n",
    "\n",
    "    rows.append(row)\n"
   ]
  },
  {
   "cell_type": "code",
   "execution_count": 34,
   "id": "30f3d4e7-79c7-454a-86cd-d606ec76357e",
   "metadata": {},
   "outputs": [
    {
     "data": {
      "text/html": [
       "<div>\n",
       "<style scoped>\n",
       "    .dataframe tbody tr th:only-of-type {\n",
       "        vertical-align: middle;\n",
       "    }\n",
       "\n",
       "    .dataframe tbody tr th {\n",
       "        vertical-align: top;\n",
       "    }\n",
       "\n",
       "    .dataframe thead th {\n",
       "        text-align: right;\n",
       "    }\n",
       "</style>\n",
       "<table border=\"1\" class=\"dataframe\">\n",
       "  <thead>\n",
       "    <tr style=\"text-align: right;\">\n",
       "      <th></th>\n",
       "      <th>Title_wiki</th>\n",
       "      <th>Director</th>\n",
       "      <th>Cast</th>\n",
       "      <th>Budget</th>\n",
       "      <th>Box_Office</th>\n",
       "      <th>Music</th>\n",
       "      <th>Distributor</th>\n",
       "      <th>Release</th>\n",
       "      <th>Production</th>\n",
       "      <th>Genre</th>\n",
       "    </tr>\n",
       "  </thead>\n",
       "  <tbody>\n",
       "    <tr>\n",
       "      <th>0</th>\n",
       "      <td>Kuch Kuch Hota Hai</td>\n",
       "      <td>Karan Johar</td>\n",
       "      <td>Shah Rukh Khan, Kajol, Rani Mukerji, Salman Kh...</td>\n",
       "      <td>₹ 100 million</td>\n",
       "      <td>est. ₹ 1.07 billion</td>\n",
       "      <td>Jatin–Lalit</td>\n",
       "      <td>Yash Raj Films</td>\n",
       "      <td>16 October 1998(1998-10-16)[1]</td>\n",
       "      <td>Dharma Productions</td>\n",
       "      <td>Romantic Comedy-Drama</td>\n",
       "    </tr>\n",
       "  </tbody>\n",
       "</table>\n",
       "</div>"
      ],
      "text/plain": [
       "           Title_wiki     Director  \\\n",
       "0  Kuch Kuch Hota Hai  Karan Johar   \n",
       "\n",
       "                                                Cast          Budget  \\\n",
       "0  Shah Rukh Khan, Kajol, Rani Mukerji, Salman Kh...  ₹ 100 million    \n",
       "\n",
       "             Box_Office        Music     Distributor  \\\n",
       "0  est. ₹ 1.07 billion   Jatin–Lalit  Yash Raj Films   \n",
       "\n",
       "                          Release          Production                  Genre  \n",
       "0  16 October 1998(1998-10-16)[1]  Dharma Productions  Romantic Comedy-Drama  "
      ]
     },
     "execution_count": 34,
     "metadata": {},
     "output_type": "execute_result"
    }
   ],
   "source": [
    "import pandas as pd\n",
    "\n",
    "df = pd.json_normalize(rows)\n",
    "df"
   ]
  },
  {
   "cell_type": "code",
   "execution_count": 24,
   "id": "fb625017-e809-4485-a342-cbda4579d715",
   "metadata": {},
   "outputs": [
    {
     "name": "stdout",
     "output_type": "stream",
     "text": [
      "=== PARAGRAPH ===\n",
      "\n",
      "\n",
      "=================\n",
      "=== PARAGRAPH ===\n",
      "the diplomat is a 2025 indian hindi-language political thriller film directed by shivam nair and written by ritesh shah.[4] the film, starring john abraham and sadia khateeb, is set against the backdrop of india–pakistan relations, exploring themes of diplomacy and the personal conflicts faced by diplomats.[5][6]\n",
      "\n",
      "=================\n",
      ">>> MATCH FOUND: political thriller\n"
     ]
    }
   ],
   "source": [
    "for p in doc.find_all('p'):\n",
    "    text = p.get_text().lower()\n",
    "    print(\"=== PARAGRAPH ===\")\n",
    "    print(text)\n",
    "    print(\"=================\")\n",
    "    match = re.search(r'hindi-language ([\\w\\s-]+?) film', text)\n",
    "    if match:\n",
    "        print(\">>> MATCH FOUND:\", match.group(1))\n",
    "        genre = match.group(1).strip().title()\n",
    "        break\n",
    "\n",
    "row['Genre'] = genre\n"
   ]
  },
  {
   "cell_type": "code",
   "execution_count": null,
   "id": "c17e55a2-15e0-4ff2-aff8-91f72a0dbdb1",
   "metadata": {},
   "outputs": [],
   "source": []
  }
 ],
 "metadata": {
  "kernelspec": {
   "display_name": "Python 3 (ipykernel)",
   "language": "python",
   "name": "python3"
  },
  "language_info": {
   "codemirror_mode": {
    "name": "ipython",
    "version": 3
   },
   "file_extension": ".py",
   "mimetype": "text/x-python",
   "name": "python",
   "nbconvert_exporter": "python",
   "pygments_lexer": "ipython3",
   "version": "3.12.0"
  }
 },
 "nbformat": 4,
 "nbformat_minor": 5
}
