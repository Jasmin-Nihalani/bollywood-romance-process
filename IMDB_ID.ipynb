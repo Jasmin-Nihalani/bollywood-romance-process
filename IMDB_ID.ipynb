{
 "cells": [
  {
   "cell_type": "code",
   "execution_count": 1,
   "id": "2cafb117-2eee-4168-9fd6-d6026b3ffa32",
   "metadata": {},
   "outputs": [],
   "source": [
    "from bs4 import BeautifulSoup\n",
    "# Load the saved HTML\n",
    "with open(\"imdb_full_page.html\", encoding=\"utf-8\") as f:\n",
    "    soup = BeautifulSoup(f, \"html.parser\")"
   ]
  },
  {
   "cell_type": "code",
   "execution_count": 2,
   "id": "5962b469-2a80-49f6-a2d0-efa0ebaf3976",
   "metadata": {},
   "outputs": [],
   "source": [
    "items = soup.find_all(class_ = 'dli-parent')\n",
    "\n",
    "rows = []\n",
    "\n",
    "for item in items:\n",
    "    row = {}\n",
    "    row['title'] = item.select_one('h3.ipc-title__text').text.split('. ', 1)[1].strip()\n",
    "    row['year'] = item.select_one('span.sc-86fea7d1-8').text.strip() if item.select_one('span.sc-86fea7d1-8') else \"No year\"\n",
    "    row['id'] = item.a['href'].split('/')[2]\n",
    "\n",
    "    rows.append(row)\n",
    "    "
   ]
  },
  {
   "cell_type": "code",
   "execution_count": 3,
   "id": "7c313886-d31d-4da9-9718-1b910491717a",
   "metadata": {},
   "outputs": [
    {
     "data": {
      "text/html": [
       "<div>\n",
       "<style scoped>\n",
       "    .dataframe tbody tr th:only-of-type {\n",
       "        vertical-align: middle;\n",
       "    }\n",
       "\n",
       "    .dataframe tbody tr th {\n",
       "        vertical-align: top;\n",
       "    }\n",
       "\n",
       "    .dataframe thead th {\n",
       "        text-align: right;\n",
       "    }\n",
       "</style>\n",
       "<table border=\"1\" class=\"dataframe\">\n",
       "  <thead>\n",
       "    <tr style=\"text-align: right;\">\n",
       "      <th></th>\n",
       "      <th>title</th>\n",
       "      <th>year</th>\n",
       "      <th>id</th>\n",
       "    </tr>\n",
       "  </thead>\n",
       "  <tbody>\n",
       "    <tr>\n",
       "      <th>0</th>\n",
       "      <td>Kanoon</td>\n",
       "      <td>1960</td>\n",
       "      <td>tt0053985</td>\n",
       "    </tr>\n",
       "    <tr>\n",
       "      <th>1</th>\n",
       "      <td>Bewaqoof</td>\n",
       "      <td>1960</td>\n",
       "      <td>tt0231254</td>\n",
       "    </tr>\n",
       "    <tr>\n",
       "      <th>2</th>\n",
       "      <td>Honeymoon</td>\n",
       "      <td>1960</td>\n",
       "      <td>tt0361712</td>\n",
       "    </tr>\n",
       "    <tr>\n",
       "      <th>3</th>\n",
       "      <td>Lal Quila</td>\n",
       "      <td>1960</td>\n",
       "      <td>tt0156723</td>\n",
       "    </tr>\n",
       "    <tr>\n",
       "      <th>4</th>\n",
       "      <td>Maa Baap</td>\n",
       "      <td>1960</td>\n",
       "      <td>tt0378280</td>\n",
       "    </tr>\n",
       "  </tbody>\n",
       "</table>\n",
       "</div>"
      ],
      "text/plain": [
       "       title  year         id\n",
       "0     Kanoon  1960  tt0053985\n",
       "1   Bewaqoof  1960  tt0231254\n",
       "2  Honeymoon  1960  tt0361712\n",
       "3  Lal Quila  1960  tt0156723\n",
       "4   Maa Baap  1960  tt0378280"
      ]
     },
     "execution_count": 3,
     "metadata": {},
     "output_type": "execute_result"
    }
   ],
   "source": [
    "import pandas as pd\n",
    "\n",
    "df = pd.json_normalize(rows)\n",
    "df.head()"
   ]
  },
  {
   "cell_type": "code",
   "execution_count": 4,
   "id": "dc43c99b-2cbe-48d3-9dca-512efdc89772",
   "metadata": {},
   "outputs": [],
   "source": [
    "df.to_excel(\"imdb_id.xlsx\", index=False)"
   ]
  },
  {
   "cell_type": "code",
   "execution_count": null,
   "id": "3aca8872-22e2-4f0a-9844-e352596ac97f",
   "metadata": {},
   "outputs": [],
   "source": []
  }
 ],
 "metadata": {
  "kernelspec": {
   "display_name": "Python 3 (ipykernel)",
   "language": "python",
   "name": "python3"
  },
  "language_info": {
   "codemirror_mode": {
    "name": "ipython",
    "version": 3
   },
   "file_extension": ".py",
   "mimetype": "text/x-python",
   "name": "python",
   "nbconvert_exporter": "python",
   "pygments_lexer": "ipython3",
   "version": "3.12.0"
  }
 },
 "nbformat": 4,
 "nbformat_minor": 5
}
